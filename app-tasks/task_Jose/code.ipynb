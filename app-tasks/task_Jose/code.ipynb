{
 "cells": [
  {
   "cell_type": "code",
   "execution_count": 1,
   "id": "049b5b40-9fc8-4b8d-8763-14474bf05022",
   "metadata": {},
   "outputs": [],
   "source": [
    "import json\n",
    "import requests\n",
    "import pandas as pd\n",
    "import seaborn as sns\n",
    "import pytz\n",
    "\n",
    "from matplotlib import pyplot as plt\n",
    "from datetime import datetime, timedelta, date, time\n",
    "from snscrape.modules.twitter import TwitterSearchScraper as tss"
   ]
  },
  {
   "cell_type": "code",
   "execution_count": 2,
   "id": "e986a220-4bdd-4f46-a040-a813ccf17e08",
   "metadata": {},
   "outputs": [],
   "source": [
    "def get_tweets(tag, limit=10000):\n",
    "    ti = time()\n",
    "    search = tss(query=f\"{tag} lang:pt\")\n",
    "    results = []\n",
    "    for i, result in enumerate(search.get_items(), start=1):\n",
    "        if i > limit:\n",
    "            return results\n",
    "        results.append(json.loads(result.json()))\n",
    "    tf = time()\n",
    "    print(f\"Tempo de execução: {tf - ti}\")\n",
    "    "
   ]
  },
  {
   "cell_type": "code",
   "execution_count": 3,
   "id": "ed07411d-5884-4225-9f64-9aea3d29ce85",
   "metadata": {},
   "outputs": [],
   "source": [
    "json_teste = get_tweets(\"copa\")"
   ]
  },
  {
   "cell_type": "code",
   "execution_count": 4,
   "id": "7ef8bd46-f211-426a-ba47-311ee7fb90d4",
   "metadata": {},
   "outputs": [],
   "source": [
    "data = {\n",
    "        'username': [],\n",
    "        'original': [],\n",
    "        'verified': [],\n",
    "        'tweet_date': [],\n",
    "        }"
   ]
  },
  {
   "cell_type": "code",
   "execution_count": 5,
   "id": "9af91e22-30fd-45a2-878a-33a5dd93d071",
   "metadata": {},
   "outputs": [],
   "source": [
    "for n in json_teste:\n",
    "    #preprocessed_tweet = [stemmer.stem(str(palavra)) for palavra in n['content'].split(' ') if palavra]\n",
    "    data['original'].append(n['content'])    \n",
    "    #data['tweet'].append(' '.join(preprocessed_tweet))\n",
    "    data['verified'].append(n['user']['verified'])  \n",
    "    data['username'].append(n['user']['username'])  \n",
    "    data['tweet_date'].append(n['date'])"
   ]
  },
  {
   "cell_type": "code",
   "execution_count": 6,
   "id": "79c69476-d112-4cf0-80d0-1337f5dcc1af",
   "metadata": {},
   "outputs": [],
   "source": [
    "df_hour = pd.DataFrame(data)"
   ]
  },
  {
   "cell_type": "code",
   "execution_count": 7,
   "id": "f58781a9-efa6-4d7b-ba48-d10fbf805ba3",
   "metadata": {},
   "outputs": [
    {
     "data": {
      "text/html": [
       "<div>\n",
       "<style scoped>\n",
       "    .dataframe tbody tr th:only-of-type {\n",
       "        vertical-align: middle;\n",
       "    }\n",
       "\n",
       "    .dataframe tbody tr th {\n",
       "        vertical-align: top;\n",
       "    }\n",
       "\n",
       "    .dataframe thead th {\n",
       "        text-align: right;\n",
       "    }\n",
       "</style>\n",
       "<table border=\"1\" class=\"dataframe\">\n",
       "  <thead>\n",
       "    <tr style=\"text-align: right;\">\n",
       "      <th></th>\n",
       "      <th>username</th>\n",
       "      <th>original</th>\n",
       "      <th>verified</th>\n",
       "      <th>tweet_date</th>\n",
       "    </tr>\n",
       "  </thead>\n",
       "  <tbody>\n",
       "    <tr>\n",
       "      <th>0</th>\n",
       "      <td>marcwlla0</td>\n",
       "      <td>po brincadeira ein, perder a abertura da copa ...</td>\n",
       "      <td>False</td>\n",
       "      <td>2022-11-20T12:32:24+00:00</td>\n",
       "    </tr>\n",
       "    <tr>\n",
       "      <th>1</th>\n",
       "      <td>pyettrasoliv</td>\n",
       "      <td>só de saber que a copa já começa hoje minha vi...</td>\n",
       "      <td>False</td>\n",
       "      <td>2022-11-20T12:32:24+00:00</td>\n",
       "    </tr>\n",
       "    <tr>\n",
       "      <th>2</th>\n",
       "      <td>Biasilva_09</td>\n",
       "      <td>queria vê a abertura da copa mas tô tão cansad...</td>\n",
       "      <td>False</td>\n",
       "      <td>2022-11-20T12:32:23+00:00</td>\n",
       "    </tr>\n",
       "    <tr>\n",
       "      <th>3</th>\n",
       "      <td>jkznervlez</td>\n",
       "      <td>Dreamers saiu as duas da manhã de hoje, tá cir...</td>\n",
       "      <td>False</td>\n",
       "      <td>2022-11-20T12:32:23+00:00</td>\n",
       "    </tr>\n",
       "    <tr>\n",
       "      <th>4</th>\n",
       "      <td>KevinVeiga</td>\n",
       "      <td>@Pedro9oficial Vai fazer 7 gols na copa brabo!...</td>\n",
       "      <td>False</td>\n",
       "      <td>2022-11-20T12:32:23+00:00</td>\n",
       "    </tr>\n",
       "    <tr>\n",
       "      <th>...</th>\n",
       "      <td>...</td>\n",
       "      <td>...</td>\n",
       "      <td>...</td>\n",
       "      <td>...</td>\n",
       "    </tr>\n",
       "    <tr>\n",
       "      <th>9995</th>\n",
       "      <td>YasminRissi_</td>\n",
       "      <td>Só queria assistir a abertura da copa, realida...</td>\n",
       "      <td>False</td>\n",
       "      <td>2022-11-20T11:30:59+00:00</td>\n",
       "    </tr>\n",
       "    <tr>\n",
       "      <th>9996</th>\n",
       "      <td>soulvmis</td>\n",
       "      <td>todo mundo amando a música e dizendo que eh a ...</td>\n",
       "      <td>False</td>\n",
       "      <td>2022-11-20T11:30:58+00:00</td>\n",
       "    </tr>\n",
       "    <tr>\n",
       "      <th>9997</th>\n",
       "      <td>sunkidea</td>\n",
       "      <td>vou assistir a copa hj pelo jk 🫶🏻🫶🏻</td>\n",
       "      <td>False</td>\n",
       "      <td>2022-11-20T11:30:58+00:00</td>\n",
       "    </tr>\n",
       "    <tr>\n",
       "      <th>9998</th>\n",
       "      <td>f_delaurentiis</td>\n",
       "      <td>Começou Copa https://t.co/sxBEzUD0UY</td>\n",
       "      <td>True</td>\n",
       "      <td>2022-11-20T11:30:58+00:00</td>\n",
       "    </tr>\n",
       "    <tr>\n",
       "      <th>9999</th>\n",
       "      <td>rhaenavy</td>\n",
       "      <td>Estou pronta pra copa https://t.co/Gsb7JMbhcF</td>\n",
       "      <td>False</td>\n",
       "      <td>2022-11-20T11:30:56+00:00</td>\n",
       "    </tr>\n",
       "  </tbody>\n",
       "</table>\n",
       "<p>10000 rows × 4 columns</p>\n",
       "</div>"
      ],
      "text/plain": [
       "            username                                           original  \\\n",
       "0          marcwlla0  po brincadeira ein, perder a abertura da copa ...   \n",
       "1       pyettrasoliv  só de saber que a copa já começa hoje minha vi...   \n",
       "2        Biasilva_09  queria vê a abertura da copa mas tô tão cansad...   \n",
       "3         jkznervlez  Dreamers saiu as duas da manhã de hoje, tá cir...   \n",
       "4         KevinVeiga  @Pedro9oficial Vai fazer 7 gols na copa brabo!...   \n",
       "...              ...                                                ...   \n",
       "9995    YasminRissi_  Só queria assistir a abertura da copa, realida...   \n",
       "9996        soulvmis  todo mundo amando a música e dizendo que eh a ...   \n",
       "9997        sunkidea                vou assistir a copa hj pelo jk 🫶🏻🫶🏻   \n",
       "9998  f_delaurentiis               Começou Copa https://t.co/sxBEzUD0UY   \n",
       "9999        rhaenavy      Estou pronta pra copa https://t.co/Gsb7JMbhcF   \n",
       "\n",
       "      verified                 tweet_date  \n",
       "0        False  2022-11-20T12:32:24+00:00  \n",
       "1        False  2022-11-20T12:32:24+00:00  \n",
       "2        False  2022-11-20T12:32:23+00:00  \n",
       "3        False  2022-11-20T12:32:23+00:00  \n",
       "4        False  2022-11-20T12:32:23+00:00  \n",
       "...        ...                        ...  \n",
       "9995     False  2022-11-20T11:30:59+00:00  \n",
       "9996     False  2022-11-20T11:30:58+00:00  \n",
       "9997     False  2022-11-20T11:30:58+00:00  \n",
       "9998      True  2022-11-20T11:30:58+00:00  \n",
       "9999     False  2022-11-20T11:30:56+00:00  \n",
       "\n",
       "[10000 rows x 4 columns]"
      ]
     },
     "metadata": {},
     "output_type": "display_data"
    }
   ],
   "source": [
    "display(df_hour)"
   ]
  },
  {
   "cell_type": "code",
   "execution_count": 8,
   "id": "cf57456e-fce4-455f-8c58-db4f8a62d8ef",
   "metadata": {},
   "outputs": [
    {
     "data": {
      "text/plain": [
       "username      object\n",
       "original      object\n",
       "verified        bool\n",
       "tweet_date    object\n",
       "dtype: object"
      ]
     },
     "execution_count": 8,
     "metadata": {},
     "output_type": "execute_result"
    }
   ],
   "source": [
    "df_hour.dtypes"
   ]
  },
  {
   "cell_type": "code",
   "execution_count": 9,
   "id": "d5a17e0d-0f0d-49e5-8416-bc7789be1012",
   "metadata": {},
   "outputs": [],
   "source": [
    "df_hour['tweet_date'] = pd.to_datetime(df_hour['tweet_date'])\n",
    "df_hour['tweet_date'] = df_hour.tweet_date.dt.tz_convert('Brazil/East')"
   ]
  },
  {
   "cell_type": "code",
   "execution_count": 10,
   "id": "dd91efd2-6272-4d33-85a6-2b6dca7b55bd",
   "metadata": {},
   "outputs": [
    {
     "data": {
      "text/plain": [
       "username                           object\n",
       "original                           object\n",
       "verified                             bool\n",
       "tweet_date    datetime64[ns, Brazil/East]\n",
       "dtype: object"
      ]
     },
     "execution_count": 10,
     "metadata": {},
     "output_type": "execute_result"
    }
   ],
   "source": [
    "df_hour.dtypes"
   ]
  },
  {
   "cell_type": "code",
   "execution_count": 11,
   "id": "1fb455ae-a4fd-4165-966b-c27af2e48938",
   "metadata": {},
   "outputs": [],
   "source": [
    "df_hour['tweet_hour'] = df_hour['tweet_date'].dt.hour\n",
    "df_hour['tweet_day'] = df_hour['tweet_date'].dt.date"
   ]
  },
  {
   "cell_type": "code",
   "execution_count": 12,
   "id": "55dce3e8-5e09-4076-82cb-66b916a6d9d3",
   "metadata": {},
   "outputs": [
    {
     "data": {
      "text/html": [
       "<div>\n",
       "<style scoped>\n",
       "    .dataframe tbody tr th:only-of-type {\n",
       "        vertical-align: middle;\n",
       "    }\n",
       "\n",
       "    .dataframe tbody tr th {\n",
       "        vertical-align: top;\n",
       "    }\n",
       "\n",
       "    .dataframe thead th {\n",
       "        text-align: right;\n",
       "    }\n",
       "</style>\n",
       "<table border=\"1\" class=\"dataframe\">\n",
       "  <thead>\n",
       "    <tr style=\"text-align: right;\">\n",
       "      <th></th>\n",
       "      <th>username</th>\n",
       "      <th>original</th>\n",
       "      <th>verified</th>\n",
       "      <th>tweet_date</th>\n",
       "      <th>tweet_hour</th>\n",
       "      <th>tweet_day</th>\n",
       "    </tr>\n",
       "  </thead>\n",
       "  <tbody>\n",
       "    <tr>\n",
       "      <th>0</th>\n",
       "      <td>marcwlla0</td>\n",
       "      <td>po brincadeira ein, perder a abertura da copa ...</td>\n",
       "      <td>False</td>\n",
       "      <td>2022-11-20 09:32:24-03:00</td>\n",
       "      <td>9</td>\n",
       "      <td>2022-11-20</td>\n",
       "    </tr>\n",
       "    <tr>\n",
       "      <th>1</th>\n",
       "      <td>pyettrasoliv</td>\n",
       "      <td>só de saber que a copa já começa hoje minha vi...</td>\n",
       "      <td>False</td>\n",
       "      <td>2022-11-20 09:32:24-03:00</td>\n",
       "      <td>9</td>\n",
       "      <td>2022-11-20</td>\n",
       "    </tr>\n",
       "    <tr>\n",
       "      <th>2</th>\n",
       "      <td>Biasilva_09</td>\n",
       "      <td>queria vê a abertura da copa mas tô tão cansad...</td>\n",
       "      <td>False</td>\n",
       "      <td>2022-11-20 09:32:23-03:00</td>\n",
       "      <td>9</td>\n",
       "      <td>2022-11-20</td>\n",
       "    </tr>\n",
       "    <tr>\n",
       "      <th>3</th>\n",
       "      <td>jkznervlez</td>\n",
       "      <td>Dreamers saiu as duas da manhã de hoje, tá cir...</td>\n",
       "      <td>False</td>\n",
       "      <td>2022-11-20 09:32:23-03:00</td>\n",
       "      <td>9</td>\n",
       "      <td>2022-11-20</td>\n",
       "    </tr>\n",
       "    <tr>\n",
       "      <th>4</th>\n",
       "      <td>KevinVeiga</td>\n",
       "      <td>@Pedro9oficial Vai fazer 7 gols na copa brabo!...</td>\n",
       "      <td>False</td>\n",
       "      <td>2022-11-20 09:32:23-03:00</td>\n",
       "      <td>9</td>\n",
       "      <td>2022-11-20</td>\n",
       "    </tr>\n",
       "    <tr>\n",
       "      <th>...</th>\n",
       "      <td>...</td>\n",
       "      <td>...</td>\n",
       "      <td>...</td>\n",
       "      <td>...</td>\n",
       "      <td>...</td>\n",
       "      <td>...</td>\n",
       "    </tr>\n",
       "    <tr>\n",
       "      <th>9995</th>\n",
       "      <td>YasminRissi_</td>\n",
       "      <td>Só queria assistir a abertura da copa, realida...</td>\n",
       "      <td>False</td>\n",
       "      <td>2022-11-20 08:30:59-03:00</td>\n",
       "      <td>8</td>\n",
       "      <td>2022-11-20</td>\n",
       "    </tr>\n",
       "    <tr>\n",
       "      <th>9996</th>\n",
       "      <td>soulvmis</td>\n",
       "      <td>todo mundo amando a música e dizendo que eh a ...</td>\n",
       "      <td>False</td>\n",
       "      <td>2022-11-20 08:30:58-03:00</td>\n",
       "      <td>8</td>\n",
       "      <td>2022-11-20</td>\n",
       "    </tr>\n",
       "    <tr>\n",
       "      <th>9997</th>\n",
       "      <td>sunkidea</td>\n",
       "      <td>vou assistir a copa hj pelo jk 🫶🏻🫶🏻</td>\n",
       "      <td>False</td>\n",
       "      <td>2022-11-20 08:30:58-03:00</td>\n",
       "      <td>8</td>\n",
       "      <td>2022-11-20</td>\n",
       "    </tr>\n",
       "    <tr>\n",
       "      <th>9998</th>\n",
       "      <td>f_delaurentiis</td>\n",
       "      <td>Começou Copa https://t.co/sxBEzUD0UY</td>\n",
       "      <td>True</td>\n",
       "      <td>2022-11-20 08:30:58-03:00</td>\n",
       "      <td>8</td>\n",
       "      <td>2022-11-20</td>\n",
       "    </tr>\n",
       "    <tr>\n",
       "      <th>9999</th>\n",
       "      <td>rhaenavy</td>\n",
       "      <td>Estou pronta pra copa https://t.co/Gsb7JMbhcF</td>\n",
       "      <td>False</td>\n",
       "      <td>2022-11-20 08:30:56-03:00</td>\n",
       "      <td>8</td>\n",
       "      <td>2022-11-20</td>\n",
       "    </tr>\n",
       "  </tbody>\n",
       "</table>\n",
       "<p>10000 rows × 6 columns</p>\n",
       "</div>"
      ],
      "text/plain": [
       "            username                                           original  \\\n",
       "0          marcwlla0  po brincadeira ein, perder a abertura da copa ...   \n",
       "1       pyettrasoliv  só de saber que a copa já começa hoje minha vi...   \n",
       "2        Biasilva_09  queria vê a abertura da copa mas tô tão cansad...   \n",
       "3         jkznervlez  Dreamers saiu as duas da manhã de hoje, tá cir...   \n",
       "4         KevinVeiga  @Pedro9oficial Vai fazer 7 gols na copa brabo!...   \n",
       "...              ...                                                ...   \n",
       "9995    YasminRissi_  Só queria assistir a abertura da copa, realida...   \n",
       "9996        soulvmis  todo mundo amando a música e dizendo que eh a ...   \n",
       "9997        sunkidea                vou assistir a copa hj pelo jk 🫶🏻🫶🏻   \n",
       "9998  f_delaurentiis               Começou Copa https://t.co/sxBEzUD0UY   \n",
       "9999        rhaenavy      Estou pronta pra copa https://t.co/Gsb7JMbhcF   \n",
       "\n",
       "      verified                tweet_date  tweet_hour   tweet_day  \n",
       "0        False 2022-11-20 09:32:24-03:00           9  2022-11-20  \n",
       "1        False 2022-11-20 09:32:24-03:00           9  2022-11-20  \n",
       "2        False 2022-11-20 09:32:23-03:00           9  2022-11-20  \n",
       "3        False 2022-11-20 09:32:23-03:00           9  2022-11-20  \n",
       "4        False 2022-11-20 09:32:23-03:00           9  2022-11-20  \n",
       "...        ...                       ...         ...         ...  \n",
       "9995     False 2022-11-20 08:30:59-03:00           8  2022-11-20  \n",
       "9996     False 2022-11-20 08:30:58-03:00           8  2022-11-20  \n",
       "9997     False 2022-11-20 08:30:58-03:00           8  2022-11-20  \n",
       "9998      True 2022-11-20 08:30:58-03:00           8  2022-11-20  \n",
       "9999     False 2022-11-20 08:30:56-03:00           8  2022-11-20  \n",
       "\n",
       "[10000 rows x 6 columns]"
      ]
     },
     "metadata": {},
     "output_type": "display_data"
    }
   ],
   "source": [
    "display(df_hour)"
   ]
  },
  {
   "cell_type": "code",
   "execution_count": 13,
   "id": "91c66520-3dc6-4424-a17c-700fd9060a42",
   "metadata": {},
   "outputs": [
    {
     "data": {
      "text/plain": [
       "username                           object\n",
       "original                           object\n",
       "verified                             bool\n",
       "tweet_date    datetime64[ns, Brazil/East]\n",
       "tweet_hour                          int64\n",
       "tweet_day                          object\n",
       "dtype: object"
      ]
     },
     "execution_count": 13,
     "metadata": {},
     "output_type": "execute_result"
    }
   ],
   "source": [
    "df_hour.dtypes"
   ]
  },
  {
   "cell_type": "code",
   "execution_count": null,
   "id": "bf12343b-d84c-42b6-9de2-90c890dbb392",
   "metadata": {},
   "outputs": [],
   "source": [
    "'''\n",
    "def temp_plot():\n",
    "    chart_data = pd.DataFrame(px.data.gapminder())\n",
    "    clist = chart_data[\"sentimento\"].unique().tolist()\n",
    "    sentiment = st.multiselect(\"Select\", clist)\n",
    "    st.header(\"You selected: {}\".format(\", \".join(sentiment)))\n",
    "    dfs = {sentimento: df[df[\"sentimento\"] == sentimento] for sentimento in sentiment}\n",
    "    fig = go.Figure()\n",
    "    for sentimento, chart_data in dfs.items():\n",
    "        fig = fig.add_trace(go.Scatter(x=df[\"hour\"], y=df[\"gdpPercap\"], name=sentimento))\n",
    "    st.plotly_chart(fig)\n",
    "\n",
    "temp_plot()'''"
   ]
  },
  {
   "cell_type": "code",
   "execution_count": 17,
   "id": "d3188af9-50cd-4b52-9809-38b7a547000a",
   "metadata": {},
   "outputs": [
    {
     "data": {
      "image/png": "[encoded data removed]",
      "text/plain": [
       "<Figure size 640x480 with 1 Axes>"
      ]
     },
     "metadata": {},
     "output_type": "display_data"
    }
   ],
   "source": [
    "# histograma \n",
    "\n",
    "sns.set_style(\"whitegrid\")\n",
    "\n",
    "ax = sns.histplot(data=df_hour, x='tweet_hour', color = 'grey')\n",
    "plt.ylabel('Nº Tweets')\n",
    "plt.xlabel('Horário')\n",
    "plt.title('Histograma')\n",
    "\n",
    "\n",
    "ax.set(frame_on=False)\n",
    "ax.axhline(0, color=\"k\", clip_on=False)\n",
    "plt.show()"
   ]
  },
  {
   "cell_type": "code",
   "execution_count": null,
   "id": "bde0f071-e48c-4eea-be62-2fa4b5dca483",
   "metadata": {},
   "outputs": [],
   "source": [
    "'''\n",
    "db = db.sort_values(by='period')\n",
    "sns.set_style('whitegrid')\n",
    "axis = sns.histplot(data=db, x= 'period')\n",
    "axis.set(frame_on=False)\n",
    "axis.axhline(0, color='k', clip_on=False)\n",
    "plt.xlabel('Period of the day')\n",
    "plt.ylabel('Number of tweets')\n",
    "plt.title('Tweets per period of the day')\n",
    "plt.show()\n",
    "'''"
   ]
  },
  {
   "cell_type": "code",
   "execution_count": null,
   "id": "305e3aae-7bf3-427e-9076-d63e1c5c409b",
   "metadata": {},
   "outputs": [],
   "source": [
    "'''\n",
    "sns.set_style('whitegrid')\n",
    "axis = sns.countplot(data=db, y='period', hue='sentiment', order = lista_ord)\n",
    "                   \n",
    "axis.set(frame_on=False)\n",
    "axis.axvline(0, color='k', clip_on=False)\n",
    "plt.ylabel('Period')\n",
    "plt.xlabel('Number of tweets')\n",
    "plt.title('Tweets per period of the day according to sentiment')\n",
    "plt.legend(fontsize='9.5')\n",
    "plt.show()\n",
    "'''"
   ]
  }
 ],
 "metadata": {
  "kernelspec": {
   "display_name": "Python 3 (ipykernel)",
   "language": "python",
   "name": "python3"
  },
  "language_info": {
   "codemirror_mode": {
    "name": "ipython",
    "version": 3
   },
   "file_extension": ".py",
   "mimetype": "text/x-python",
   "name": "python",
   "nbconvert_exporter": "python",
   "pygments_lexer": "ipython3",
   "version": "3.8.10"
  }
 },
 "nbformat": 4,
 "nbformat_minor": 5
}
