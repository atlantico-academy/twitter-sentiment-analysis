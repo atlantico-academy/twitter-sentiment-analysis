{
 "cells": [
  {
   "cell_type": "code",
   "execution_count": 1,
   "id": "049b5b40-9fc8-4b8d-8763-14474bf05022",
   "metadata": {},
   "outputs": [],
   "source": [
    "import json\n",
    "import requests\n",
    "import pandas as pd\n",
    "import seaborn as sns\n",
    "import pytz\n",
    "\n",
    "from matplotlib import pyplot as plt\n",
    "from datetime import datetime, timedelta, date, time\n",
    "from snscrape.modules.twitter import TwitterSearchScraper as tss"
   ]
  },
  {
   "cell_type": "code",
   "execution_count": 2,
   "id": "e986a220-4bdd-4f46-a040-a813ccf17e08",
   "metadata": {},
   "outputs": [],
   "source": [
    "def get_tweets(tag, limit=10000):\n",
    "    search = tss(query=f\"{tag} lang:pt\")\n",
    "    results = []\n",
    "    for i, result in enumerate(search.get_items(), start=1):\n",
    "        if i > limit:\n",
    "            return results\n",
    "        results.append(json.loads(result.json()))"
   ]
  },
  {
   "cell_type": "code",
   "execution_count": 3,
   "id": "ed07411d-5884-4225-9f64-9aea3d29ce85",
   "metadata": {},
   "outputs": [],
   "source": [
    "json_teste = get_tweets(\"copa\")"
   ]
  },
  {
   "cell_type": "code",
   "execution_count": 4,
   "id": "7ef8bd46-f211-426a-ba47-311ee7fb90d4",
   "metadata": {},
   "outputs": [],
   "source": [
    "data = {\n",
    "        'username': [],\n",
    "        'original': [],\n",
    "        'verified': [],\n",
    "        'tweet_date': [],\n",
    "        }"
   ]
  },
  {
   "cell_type": "code",
   "execution_count": 5,
   "id": "9af91e22-30fd-45a2-878a-33a5dd93d071",
   "metadata": {},
   "outputs": [],
   "source": [
    "for n in json_teste:\n",
    "    #preprocessed_tweet = [stemmer.stem(str(palavra)) for palavra in n['content'].split(' ') if palavra]\n",
    "    data['original'].append(n['content'])    \n",
    "    #data['tweet'].append(' '.join(preprocessed_tweet))\n",
    "    data['verified'].append(n['user']['verified'])  \n",
    "    data['username'].append(n['user']['username'])  \n",
    "    data['tweet_date'].append(n['date'])"
   ]
  },
  {
   "cell_type": "code",
   "execution_count": 6,
   "id": "79c69476-d112-4cf0-80d0-1337f5dcc1af",
   "metadata": {},
   "outputs": [],
   "source": [
    "df_hour = pd.DataFrame(data)"
   ]
  },
  {
   "cell_type": "code",
   "execution_count": 7,
   "id": "f58781a9-efa6-4d7b-ba48-d10fbf805ba3",
   "metadata": {},
   "outputs": [
    {
     "data": {
      "text/html": [
       "<div>\n",
       "<style scoped>\n",
       "    .dataframe tbody tr th:only-of-type {\n",
       "        vertical-align: middle;\n",
       "    }\n",
       "\n",
       "    .dataframe tbody tr th {\n",
       "        vertical-align: top;\n",
       "    }\n",
       "\n",
       "    .dataframe thead th {\n",
       "        text-align: right;\n",
       "    }\n",
       "</style>\n",
       "<table border=\"1\" class=\"dataframe\">\n",
       "  <thead>\n",
       "    <tr style=\"text-align: right;\">\n",
       "      <th></th>\n",
       "      <th>username</th>\n",
       "      <th>original</th>\n",
       "      <th>verified</th>\n",
       "      <th>tweet_date</th>\n",
       "    </tr>\n",
       "  </thead>\n",
       "  <tbody>\n",
       "    <tr>\n",
       "      <th>0</th>\n",
       "      <td>SportRaiz</td>\n",
       "      <td>@camilac_alves Final da Copa e tira teima fina...</td>\n",
       "      <td>False</td>\n",
       "      <td>2022-11-19T18:41:21+00:00</td>\n",
       "    </tr>\n",
       "    <tr>\n",
       "      <th>1</th>\n",
       "      <td>goldoneves</td>\n",
       "      <td>minha expectativa pré copa do mundo começou a ...</td>\n",
       "      <td>False</td>\n",
       "      <td>2022-11-19T18:41:20+00:00</td>\n",
       "    </tr>\n",
       "    <tr>\n",
       "      <th>2</th>\n",
       "      <td>pessicolorado</td>\n",
       "      <td>É praticamente o Bayern disputando uma Copa do...</td>\n",
       "      <td>False</td>\n",
       "      <td>2022-11-19T18:41:19+00:00</td>\n",
       "    </tr>\n",
       "    <tr>\n",
       "      <th>3</th>\n",
       "      <td>CamileVieira7</td>\n",
       "      <td>ta mas é essa a música da copa?!!</td>\n",
       "      <td>False</td>\n",
       "      <td>2022-11-19T18:41:17+00:00</td>\n",
       "    </tr>\n",
       "    <tr>\n",
       "      <th>4</th>\n",
       "      <td>sucamss</td>\n",
       "      <td>a bruxa ta solta na seleção francesa, vai ser ...</td>\n",
       "      <td>False</td>\n",
       "      <td>2022-11-19T18:41:16+00:00</td>\n",
       "    </tr>\n",
       "    <tr>\n",
       "      <th>...</th>\n",
       "      <td>...</td>\n",
       "      <td>...</td>\n",
       "      <td>...</td>\n",
       "      <td>...</td>\n",
       "    </tr>\n",
       "    <tr>\n",
       "      <th>9995</th>\n",
       "      <td>leo_baiao</td>\n",
       "      <td>Essa Copa tá parecendo um velório.</td>\n",
       "      <td>False</td>\n",
       "      <td>2022-11-19T16:51:03+00:00</td>\n",
       "    </tr>\n",
       "    <tr>\n",
       "      <th>9996</th>\n",
       "      <td>borbamand</td>\n",
       "      <td>eu nao quero mais saber de tristeza, amanhã te...</td>\n",
       "      <td>False</td>\n",
       "      <td>2022-11-19T16:51:02+00:00</td>\n",
       "    </tr>\n",
       "    <tr>\n",
       "      <th>9997</th>\n",
       "      <td>portilho_bia</td>\n",
       "      <td>ansiosa pra começar a decorar a casa pra natal...</td>\n",
       "      <td>False</td>\n",
       "      <td>2022-11-19T16:51:01+00:00</td>\n",
       "    </tr>\n",
       "    <tr>\n",
       "      <th>9998</th>\n",
       "      <td>ponyoesosuke</td>\n",
       "      <td>minha ficha só vai cair amanhã qnd eu ver o ju...</td>\n",
       "      <td>False</td>\n",
       "      <td>2022-11-19T16:51:01+00:00</td>\n",
       "    </tr>\n",
       "    <tr>\n",
       "      <th>9999</th>\n",
       "      <td>_DosAnjos1</td>\n",
       "      <td>primeiro jogo da copa é amanhã🤙🏻😝\\njogo: Catar...</td>\n",
       "      <td>False</td>\n",
       "      <td>2022-11-19T16:50:59+00:00</td>\n",
       "    </tr>\n",
       "  </tbody>\n",
       "</table>\n",
       "<p>10000 rows × 4 columns</p>\n",
       "</div>"
      ],
      "text/plain": [
       "           username                                           original  \\\n",
       "0         SportRaiz  @camilac_alves Final da Copa e tira teima fina...   \n",
       "1        goldoneves  minha expectativa pré copa do mundo começou a ...   \n",
       "2     pessicolorado  É praticamente o Bayern disputando uma Copa do...   \n",
       "3     CamileVieira7                  ta mas é essa a música da copa?!!   \n",
       "4           sucamss  a bruxa ta solta na seleção francesa, vai ser ...   \n",
       "...             ...                                                ...   \n",
       "9995      leo_baiao                 Essa Copa tá parecendo um velório.   \n",
       "9996      borbamand  eu nao quero mais saber de tristeza, amanhã te...   \n",
       "9997   portilho_bia  ansiosa pra começar a decorar a casa pra natal...   \n",
       "9998   ponyoesosuke  minha ficha só vai cair amanhã qnd eu ver o ju...   \n",
       "9999     _DosAnjos1  primeiro jogo da copa é amanhã🤙🏻😝\\njogo: Catar...   \n",
       "\n",
       "      verified                 tweet_date  \n",
       "0        False  2022-11-19T18:41:21+00:00  \n",
       "1        False  2022-11-19T18:41:20+00:00  \n",
       "2        False  2022-11-19T18:41:19+00:00  \n",
       "3        False  2022-11-19T18:41:17+00:00  \n",
       "4        False  2022-11-19T18:41:16+00:00  \n",
       "...        ...                        ...  \n",
       "9995     False  2022-11-19T16:51:03+00:00  \n",
       "9996     False  2022-11-19T16:51:02+00:00  \n",
       "9997     False  2022-11-19T16:51:01+00:00  \n",
       "9998     False  2022-11-19T16:51:01+00:00  \n",
       "9999     False  2022-11-19T16:50:59+00:00  \n",
       "\n",
       "[10000 rows x 4 columns]"
      ]
     },
     "metadata": {},
     "output_type": "display_data"
    }
   ],
   "source": [
    "display(df_hour)"
   ]
  },
  {
   "cell_type": "code",
   "execution_count": 8,
   "id": "cf57456e-fce4-455f-8c58-db4f8a62d8ef",
   "metadata": {},
   "outputs": [
    {
     "data": {
      "text/plain": [
       "username      object\n",
       "original      object\n",
       "verified        bool\n",
       "tweet_date    object\n",
       "dtype: object"
      ]
     },
     "execution_count": 8,
     "metadata": {},
     "output_type": "execute_result"
    }
   ],
   "source": [
    "df_hour.dtypes"
   ]
  },
  {
   "cell_type": "code",
   "execution_count": 9,
   "id": "d5a17e0d-0f0d-49e5-8416-bc7789be1012",
   "metadata": {},
   "outputs": [],
   "source": [
    "df_hour['tweet_date'] = pd.to_datetime(df_hour['tweet_date'])\n",
    "df_hour['tweet_date'] = df_hour.tweet_date.dt.tz_convert('Brazil/East')"
   ]
  },
  {
   "cell_type": "code",
   "execution_count": 10,
   "id": "dd91efd2-6272-4d33-85a6-2b6dca7b55bd",
   "metadata": {},
   "outputs": [
    {
     "data": {
      "text/plain": [
       "username                           object\n",
       "original                           object\n",
       "verified                             bool\n",
       "tweet_date    datetime64[ns, Brazil/East]\n",
       "dtype: object"
      ]
     },
     "execution_count": 10,
     "metadata": {},
     "output_type": "execute_result"
    }
   ],
   "source": [
    "df_hour.dtypes"
   ]
  },
  {
   "cell_type": "code",
   "execution_count": 11,
   "id": "1fb455ae-a4fd-4165-966b-c27af2e48938",
   "metadata": {},
   "outputs": [],
   "source": [
    "df_hour['tweet_hour'] = df_hour['tweet_date'].dt.hour\n",
    "df_hour['tweet_day'] = df_hour['tweet_date'].dt.date"
   ]
  },
  {
   "cell_type": "code",
   "execution_count": 12,
   "id": "55dce3e8-5e09-4076-82cb-66b916a6d9d3",
   "metadata": {},
   "outputs": [
    {
     "data": {
      "text/html": [
       "<div>\n",
       "<style scoped>\n",
       "    .dataframe tbody tr th:only-of-type {\n",
       "        vertical-align: middle;\n",
       "    }\n",
       "\n",
       "    .dataframe tbody tr th {\n",
       "        vertical-align: top;\n",
       "    }\n",
       "\n",
       "    .dataframe thead th {\n",
       "        text-align: right;\n",
       "    }\n",
       "</style>\n",
       "<table border=\"1\" class=\"dataframe\">\n",
       "  <thead>\n",
       "    <tr style=\"text-align: right;\">\n",
       "      <th></th>\n",
       "      <th>username</th>\n",
       "      <th>original</th>\n",
       "      <th>verified</th>\n",
       "      <th>tweet_date</th>\n",
       "      <th>tweet_hour</th>\n",
       "      <th>tweet_day</th>\n",
       "    </tr>\n",
       "  </thead>\n",
       "  <tbody>\n",
       "    <tr>\n",
       "      <th>0</th>\n",
       "      <td>SportRaiz</td>\n",
       "      <td>@camilac_alves Final da Copa e tira teima fina...</td>\n",
       "      <td>False</td>\n",
       "      <td>2022-11-19 15:41:21-03:00</td>\n",
       "      <td>15</td>\n",
       "      <td>2022-11-19</td>\n",
       "    </tr>\n",
       "    <tr>\n",
       "      <th>1</th>\n",
       "      <td>goldoneves</td>\n",
       "      <td>minha expectativa pré copa do mundo começou a ...</td>\n",
       "      <td>False</td>\n",
       "      <td>2022-11-19 15:41:20-03:00</td>\n",
       "      <td>15</td>\n",
       "      <td>2022-11-19</td>\n",
       "    </tr>\n",
       "    <tr>\n",
       "      <th>2</th>\n",
       "      <td>pessicolorado</td>\n",
       "      <td>É praticamente o Bayern disputando uma Copa do...</td>\n",
       "      <td>False</td>\n",
       "      <td>2022-11-19 15:41:19-03:00</td>\n",
       "      <td>15</td>\n",
       "      <td>2022-11-19</td>\n",
       "    </tr>\n",
       "    <tr>\n",
       "      <th>3</th>\n",
       "      <td>CamileVieira7</td>\n",
       "      <td>ta mas é essa a música da copa?!!</td>\n",
       "      <td>False</td>\n",
       "      <td>2022-11-19 15:41:17-03:00</td>\n",
       "      <td>15</td>\n",
       "      <td>2022-11-19</td>\n",
       "    </tr>\n",
       "    <tr>\n",
       "      <th>4</th>\n",
       "      <td>sucamss</td>\n",
       "      <td>a bruxa ta solta na seleção francesa, vai ser ...</td>\n",
       "      <td>False</td>\n",
       "      <td>2022-11-19 15:41:16-03:00</td>\n",
       "      <td>15</td>\n",
       "      <td>2022-11-19</td>\n",
       "    </tr>\n",
       "    <tr>\n",
       "      <th>...</th>\n",
       "      <td>...</td>\n",
       "      <td>...</td>\n",
       "      <td>...</td>\n",
       "      <td>...</td>\n",
       "      <td>...</td>\n",
       "      <td>...</td>\n",
       "    </tr>\n",
       "    <tr>\n",
       "      <th>9995</th>\n",
       "      <td>leo_baiao</td>\n",
       "      <td>Essa Copa tá parecendo um velório.</td>\n",
       "      <td>False</td>\n",
       "      <td>2022-11-19 13:51:03-03:00</td>\n",
       "      <td>13</td>\n",
       "      <td>2022-11-19</td>\n",
       "    </tr>\n",
       "    <tr>\n",
       "      <th>9996</th>\n",
       "      <td>borbamand</td>\n",
       "      <td>eu nao quero mais saber de tristeza, amanhã te...</td>\n",
       "      <td>False</td>\n",
       "      <td>2022-11-19 13:51:02-03:00</td>\n",
       "      <td>13</td>\n",
       "      <td>2022-11-19</td>\n",
       "    </tr>\n",
       "    <tr>\n",
       "      <th>9997</th>\n",
       "      <td>portilho_bia</td>\n",
       "      <td>ansiosa pra começar a decorar a casa pra natal...</td>\n",
       "      <td>False</td>\n",
       "      <td>2022-11-19 13:51:01-03:00</td>\n",
       "      <td>13</td>\n",
       "      <td>2022-11-19</td>\n",
       "    </tr>\n",
       "    <tr>\n",
       "      <th>9998</th>\n",
       "      <td>ponyoesosuke</td>\n",
       "      <td>minha ficha só vai cair amanhã qnd eu ver o ju...</td>\n",
       "      <td>False</td>\n",
       "      <td>2022-11-19 13:51:01-03:00</td>\n",
       "      <td>13</td>\n",
       "      <td>2022-11-19</td>\n",
       "    </tr>\n",
       "    <tr>\n",
       "      <th>9999</th>\n",
       "      <td>_DosAnjos1</td>\n",
       "      <td>primeiro jogo da copa é amanhã🤙🏻😝\\njogo: Catar...</td>\n",
       "      <td>False</td>\n",
       "      <td>2022-11-19 13:50:59-03:00</td>\n",
       "      <td>13</td>\n",
       "      <td>2022-11-19</td>\n",
       "    </tr>\n",
       "  </tbody>\n",
       "</table>\n",
       "<p>10000 rows × 6 columns</p>\n",
       "</div>"
      ],
      "text/plain": [
       "           username                                           original  \\\n",
       "0         SportRaiz  @camilac_alves Final da Copa e tira teima fina...   \n",
       "1        goldoneves  minha expectativa pré copa do mundo começou a ...   \n",
       "2     pessicolorado  É praticamente o Bayern disputando uma Copa do...   \n",
       "3     CamileVieira7                  ta mas é essa a música da copa?!!   \n",
       "4           sucamss  a bruxa ta solta na seleção francesa, vai ser ...   \n",
       "...             ...                                                ...   \n",
       "9995      leo_baiao                 Essa Copa tá parecendo um velório.   \n",
       "9996      borbamand  eu nao quero mais saber de tristeza, amanhã te...   \n",
       "9997   portilho_bia  ansiosa pra começar a decorar a casa pra natal...   \n",
       "9998   ponyoesosuke  minha ficha só vai cair amanhã qnd eu ver o ju...   \n",
       "9999     _DosAnjos1  primeiro jogo da copa é amanhã🤙🏻😝\\njogo: Catar...   \n",
       "\n",
       "      verified                tweet_date  tweet_hour   tweet_day  \n",
       "0        False 2022-11-19 15:41:21-03:00          15  2022-11-19  \n",
       "1        False 2022-11-19 15:41:20-03:00          15  2022-11-19  \n",
       "2        False 2022-11-19 15:41:19-03:00          15  2022-11-19  \n",
       "3        False 2022-11-19 15:41:17-03:00          15  2022-11-19  \n",
       "4        False 2022-11-19 15:41:16-03:00          15  2022-11-19  \n",
       "...        ...                       ...         ...         ...  \n",
       "9995     False 2022-11-19 13:51:03-03:00          13  2022-11-19  \n",
       "9996     False 2022-11-19 13:51:02-03:00          13  2022-11-19  \n",
       "9997     False 2022-11-19 13:51:01-03:00          13  2022-11-19  \n",
       "9998     False 2022-11-19 13:51:01-03:00          13  2022-11-19  \n",
       "9999     False 2022-11-19 13:50:59-03:00          13  2022-11-19  \n",
       "\n",
       "[10000 rows x 6 columns]"
      ]
     },
     "metadata": {},
     "output_type": "display_data"
    }
   ],
   "source": [
    "display(df_hour)"
   ]
  },
  {
   "cell_type": "code",
   "execution_count": 13,
   "id": "91c66520-3dc6-4424-a17c-700fd9060a42",
   "metadata": {},
   "outputs": [
    {
     "data": {
      "text/plain": [
       "username                           object\n",
       "original                           object\n",
       "verified                             bool\n",
       "tweet_date    datetime64[ns, Brazil/East]\n",
       "tweet_hour                          int64\n",
       "tweet_day                          object\n",
       "dtype: object"
      ]
     },
     "execution_count": 13,
     "metadata": {},
     "output_type": "execute_result"
    }
   ],
   "source": [
    "df_hour.dtypes"
   ]
  },
  {
   "cell_type": "code",
   "execution_count": 14,
   "id": "d3188af9-50cd-4b52-9809-38b7a547000a",
   "metadata": {},
   "outputs": [
    {
     "data": {
      "image/png": "[encoded data removed]",
      "text/plain": [
       "<Figure size 640x480 with 1 Axes>"
      ]
     },
     "metadata": {},
     "output_type": "display_data"
    }
   ],
   "source": [
    "# histograma \n",
    "\n",
    "sns.set_style(\"whitegrid\")\n",
    "\n",
    "ax = sns.histplot(data=df_hour, x='tweet_hour', color = 'grey')\n",
    "plt.ylabel('Nº Tweets')\n",
    "plt.xlabel('Dia')\n",
    "plt.title('Histograma')\n",
    "\n",
    "\n",
    "ax.set(frame_on=False)\n",
    "ax.axhline(0, color=\"k\", clip_on=False)\n",
    "plt.show()\n",
    "\n"
   ]
  },
  {
   "cell_type": "code",
   "execution_count": 15,
   "id": "bde0f071-e48c-4eea-be62-2fa4b5dca483",
   "metadata": {},
   "outputs": [
    {
     "data": {
      "text/plain": [
       "\"\\ndb = db.sort_values(by='period')\\nsns.set_style('whitegrid')\\naxis = sns.histplot(data=db, x= 'period')\\naxis.set(frame_on=False)\\naxis.axhline(0, color='k', clip_on=False)\\nplt.xlabel('Period of the day')\\nplt.ylabel('Number of tweets')\\nplt.title('Tweets per period of the day')\\nplt.show()\\n\""
      ]
     },
     "execution_count": 15,
     "metadata": {},
     "output_type": "execute_result"
    }
   ],
   "source": [
    "'''\n",
    "db = db.sort_values(by='period')\n",
    "sns.set_style('whitegrid')\n",
    "axis = sns.histplot(data=db, x= 'period')\n",
    "axis.set(frame_on=False)\n",
    "axis.axhline(0, color='k', clip_on=False)\n",
    "plt.xlabel('Period of the day')\n",
    "plt.ylabel('Number of tweets')\n",
    "plt.title('Tweets per period of the day')\n",
    "plt.show()\n",
    "'''"
   ]
  },
  {
   "cell_type": "code",
   "execution_count": 16,
   "id": "305e3aae-7bf3-427e-9076-d63e1c5c409b",
   "metadata": {},
   "outputs": [
    {
     "data": {
      "text/plain": [
       "\"\\nsns.set_style('whitegrid')\\naxis = sns.countplot(data=db, y='period', hue='sentiment', order = lista_ord)\\n                   \\naxis.set(frame_on=False)\\naxis.axvline(0, color='k', clip_on=False)\\nplt.ylabel('Period')\\nplt.xlabel('Number of tweets')\\nplt.title('Tweets per period of the day according to sentiment')\\nplt.legend(fontsize='9.5')\\nplt.show()\\n\""
      ]
     },
     "execution_count": 16,
     "metadata": {},
     "output_type": "execute_result"
    }
   ],
   "source": [
    "'''\n",
    "sns.set_style('whitegrid')\n",
    "axis = sns.countplot(data=db, y='period', hue='sentiment', order = lista_ord)\n",
    "                   \n",
    "axis.set(frame_on=False)\n",
    "axis.axvline(0, color='k', clip_on=False)\n",
    "plt.ylabel('Period')\n",
    "plt.xlabel('Number of tweets')\n",
    "plt.title('Tweets per period of the day according to sentiment')\n",
    "plt.legend(fontsize='9.5')\n",
    "plt.show()\n",
    "'''"
   ]
  }
 ],
 "metadata": {
  "kernelspec": {
   "display_name": "Python 3 (ipykernel)",
   "language": "python",
   "name": "python3"
  },
  "language_info": {
   "codemirror_mode": {
    "name": "ipython",
    "version": 3
   },
   "file_extension": ".py",
   "mimetype": "text/x-python",
   "name": "python",
   "nbconvert_exporter": "python",
   "pygments_lexer": "ipython3",
   "version": "3.8.10"
  }
 },
 "nbformat": 4,
 "nbformat_minor": 5
}
