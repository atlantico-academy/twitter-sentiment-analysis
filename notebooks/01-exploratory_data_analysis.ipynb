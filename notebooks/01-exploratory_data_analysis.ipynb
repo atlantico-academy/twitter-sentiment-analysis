{
 "cells": [
  {
   "cell_type": "markdown",
   "metadata": {},
   "source": [
    "# Análise exploratória de dados"
   ]
  },
  {
   "cell_type": "markdown",
   "metadata": {},
   "source": [
    "## Carregar bibliotecas"
   ]
  },
  {
   "cell_type": "code",
   "execution_count": 2,
   "metadata": {},
   "outputs": [],
   "source": [
    "from matplotlib import pyplot as plt\n",
    "import seaborn as sns\n",
    "import pandas as pd"
   ]
  },
  {
   "cell_type": "markdown",
   "metadata": {},
   "source": [
    "## Dicionário de dados"
   ]
  },
  {
   "cell_type": "code",
   "execution_count": 3,
   "metadata": {},
   "outputs": [
    {
     "data": {
      "text/html": [
       "<div>\n",
       "<style scoped>\n",
       "    .dataframe tbody tr th:only-of-type {\n",
       "        vertical-align: middle;\n",
       "    }\n",
       "\n",
       "    .dataframe tbody tr th {\n",
       "        vertical-align: top;\n",
       "    }\n",
       "\n",
       "    .dataframe thead th {\n",
       "        text-align: right;\n",
       "    }\n",
       "</style>\n",
       "<table border=\"1\" class=\"dataframe\">\n",
       "  <thead>\n",
       "    <tr style=\"text-align: right;\">\n",
       "      <th></th>\n",
       "      <th>variavel</th>\n",
       "      <th>significado</th>\n",
       "      <th>tipo</th>\n",
       "      <th>Unnamed: 3</th>\n",
       "    </tr>\n",
       "  </thead>\n",
       "  <tbody>\n",
       "    <tr>\n",
       "      <th>0</th>\n",
       "      <td>id</td>\n",
       "      <td>ID único por usuário</td>\n",
       "      <td>nominal</td>\n",
       "      <td>NaN</td>\n",
       "    </tr>\n",
       "    <tr>\n",
       "      <th>1</th>\n",
       "      <td>tweet_text</td>\n",
       "      <td>Texto publicado</td>\n",
       "      <td>nominal</td>\n",
       "      <td>NaN</td>\n",
       "    </tr>\n",
       "    <tr>\n",
       "      <th>2</th>\n",
       "      <td>tweet_date</td>\n",
       "      <td>Data de publicação</td>\n",
       "      <td>nominal</td>\n",
       "      <td>NaN</td>\n",
       "    </tr>\n",
       "    <tr>\n",
       "      <th>3</th>\n",
       "      <td>sentiment</td>\n",
       "      <td>Algorítmo de classificação do sentimento do us...</td>\n",
       "      <td>nominal</td>\n",
       "      <td>[0,1,2]</td>\n",
       "    </tr>\n",
       "    <tr>\n",
       "      <th>4</th>\n",
       "      <td>query_used</td>\n",
       "      <td>Palavra relevante</td>\n",
       "      <td>nominal</td>\n",
       "      <td>[':)', ':(', 'veja', 'jornaloglobo', 'g1', 'fo...</td>\n",
       "    </tr>\n",
       "  </tbody>\n",
       "</table>\n",
       "</div>"
      ],
      "text/plain": [
       "     variavel                                        significado     tipo  \\\n",
       "0          id                               ID único por usuário  nominal   \n",
       "1  tweet_text                                    Texto publicado  nominal   \n",
       "2  tweet_date                                 Data de publicação  nominal   \n",
       "3   sentiment  Algorítmo de classificação do sentimento do us...  nominal   \n",
       "4  query_used                                  Palavra relevante  nominal   \n",
       "\n",
       "                                          Unnamed: 3  \n",
       "0                                                NaN  \n",
       "1                                                NaN  \n",
       "2                                                NaN  \n",
       "3                                            [0,1,2]  \n",
       "4  [':)', ':(', 'veja', 'jornaloglobo', 'g1', 'fo...  "
      ]
     },
     "execution_count": 3,
     "metadata": {},
     "output_type": "execute_result"
    }
   ],
   "source": [
    "pd.read_csv('../data/external/dicionario.csv')"
   ]
  },
  {
   "cell_type": "markdown",
   "metadata": {
    "tags": []
   },
   "source": [
    "## Leitura do arquivo de dados"
   ]
  },
  {
   "cell_type": "code",
   "execution_count": 4,
   "metadata": {},
   "outputs": [
    {
     "data": {
      "text/html": [
       "<div>\n",
       "<style scoped>\n",
       "    .dataframe tbody tr th:only-of-type {\n",
       "        vertical-align: middle;\n",
       "    }\n",
       "\n",
       "    .dataframe tbody tr th {\n",
       "        vertical-align: top;\n",
       "    }\n",
       "\n",
       "    .dataframe thead th {\n",
       "        text-align: right;\n",
       "    }\n",
       "</style>\n",
       "<table border=\"1\" class=\"dataframe\">\n",
       "  <thead>\n",
       "    <tr style=\"text-align: right;\">\n",
       "      <th></th>\n",
       "      <th>id</th>\n",
       "      <th>tweet_text</th>\n",
       "      <th>tweet_date</th>\n",
       "      <th>sentiment</th>\n",
       "      <th>query_used</th>\n",
       "    </tr>\n",
       "  </thead>\n",
       "  <tbody>\n",
       "    <tr>\n",
       "      <th>0</th>\n",
       "      <td>1050785521201541121</td>\n",
       "      <td>@Laranjito76 A pessoa certa para isso seria o ...</td>\n",
       "      <td>Fri Oct 12 16:29:25 +0000 2018</td>\n",
       "      <td>1</td>\n",
       "      <td>:)</td>\n",
       "    </tr>\n",
       "    <tr>\n",
       "      <th>1</th>\n",
       "      <td>1050785431955140608</td>\n",
       "      <td>@behin_d_curtain Para mim, é precisamente o co...</td>\n",
       "      <td>Fri Oct 12 16:29:04 +0000 2018</td>\n",
       "      <td>1</td>\n",
       "      <td>:)</td>\n",
       "    </tr>\n",
       "    <tr>\n",
       "      <th>2</th>\n",
       "      <td>1050785401248645120</td>\n",
       "      <td>Vou fazer um video hoje... estou pensando em f...</td>\n",
       "      <td>Fri Oct 12 16:28:56 +0000 2018</td>\n",
       "      <td>1</td>\n",
       "      <td>:)</td>\n",
       "    </tr>\n",
       "    <tr>\n",
       "      <th>3</th>\n",
       "      <td>1050785370982547461</td>\n",
       "      <td>aaaaaaaa amei tanto essas polaroids, nem sei e...</td>\n",
       "      <td>Fri Oct 12 16:28:49 +0000 2018</td>\n",
       "      <td>1</td>\n",
       "      <td>:)</td>\n",
       "    </tr>\n",
       "    <tr>\n",
       "      <th>4</th>\n",
       "      <td>1050785368902131713</td>\n",
       "      <td>Valoriza o coração do menininho que vc tem. El...</td>\n",
       "      <td>Fri Oct 12 16:28:49 +0000 2018</td>\n",
       "      <td>1</td>\n",
       "      <td>:)</td>\n",
       "    </tr>\n",
       "  </tbody>\n",
       "</table>\n",
       "</div>"
      ],
      "text/plain": [
       "                    id                                         tweet_text  \\\n",
       "0  1050785521201541121  @Laranjito76 A pessoa certa para isso seria o ...   \n",
       "1  1050785431955140608  @behin_d_curtain Para mim, é precisamente o co...   \n",
       "2  1050785401248645120  Vou fazer um video hoje... estou pensando em f...   \n",
       "3  1050785370982547461  aaaaaaaa amei tanto essas polaroids, nem sei e...   \n",
       "4  1050785368902131713  Valoriza o coração do menininho que vc tem. El...   \n",
       "\n",
       "                       tweet_date  sentiment query_used  \n",
       "0  Fri Oct 12 16:29:25 +0000 2018          1         :)  \n",
       "1  Fri Oct 12 16:29:04 +0000 2018          1         :)  \n",
       "2  Fri Oct 12 16:28:56 +0000 2018          1         :)  \n",
       "3  Fri Oct 12 16:28:49 +0000 2018          1         :)  \n",
       "4  Fri Oct 12 16:28:49 +0000 2018          1         :)  "
      ]
     },
     "execution_count": 4,
     "metadata": {},
     "output_type": "execute_result"
    }
   ],
   "source": [
    "db = pd.read_csv('../data/raw/data.csv', delimiter=\";\")\n",
    "db.head()"
   ]
  },
  {
   "cell_type": "markdown",
   "metadata": {},
   "source": [
    "## 1. Descrição dos dados"
   ]
  },
  {
   "cell_type": "code",
   "execution_count": 6,
   "metadata": {},
   "outputs": [
    {
     "data": {
      "text/html": [
       "<div>\n",
       "<style scoped>\n",
       "    .dataframe tbody tr th:only-of-type {\n",
       "        vertical-align: middle;\n",
       "    }\n",
       "\n",
       "    .dataframe tbody tr th {\n",
       "        vertical-align: top;\n",
       "    }\n",
       "\n",
       "    .dataframe thead th {\n",
       "        text-align: right;\n",
       "    }\n",
       "</style>\n",
       "<table border=\"1\" class=\"dataframe\">\n",
       "  <thead>\n",
       "    <tr style=\"text-align: right;\">\n",
       "      <th></th>\n",
       "      <th>id</th>\n",
       "      <th>sentiment</th>\n",
       "    </tr>\n",
       "  </thead>\n",
       "  <tbody>\n",
       "    <tr>\n",
       "      <th>count</th>\n",
       "      <td>1.000000e+05</td>\n",
       "      <td>100000.000000</td>\n",
       "    </tr>\n",
       "    <tr>\n",
       "      <th>mean</th>\n",
       "      <td>1.045736e+18</td>\n",
       "      <td>1.000000</td>\n",
       "    </tr>\n",
       "    <tr>\n",
       "      <th>std</th>\n",
       "      <td>4.262747e+15</td>\n",
       "      <td>0.816497</td>\n",
       "    </tr>\n",
       "    <tr>\n",
       "      <th>min</th>\n",
       "      <td>1.027374e+18</td>\n",
       "      <td>0.000000</td>\n",
       "    </tr>\n",
       "    <tr>\n",
       "      <th>25%</th>\n",
       "      <td>1.045369e+18</td>\n",
       "      <td>0.000000</td>\n",
       "    </tr>\n",
       "    <tr>\n",
       "      <th>50%</th>\n",
       "      <td>1.046820e+18</td>\n",
       "      <td>1.000000</td>\n",
       "    </tr>\n",
       "    <tr>\n",
       "      <th>75%</th>\n",
       "      <td>1.049106e+18</td>\n",
       "      <td>2.000000</td>\n",
       "    </tr>\n",
       "    <tr>\n",
       "      <th>max</th>\n",
       "      <td>1.053355e+18</td>\n",
       "      <td>2.000000</td>\n",
       "    </tr>\n",
       "  </tbody>\n",
       "</table>\n",
       "</div>"
      ],
      "text/plain": [
       "                 id      sentiment\n",
       "count  1.000000e+05  100000.000000\n",
       "mean   1.045736e+18       1.000000\n",
       "std    4.262747e+15       0.816497\n",
       "min    1.027374e+18       0.000000\n",
       "25%    1.045369e+18       0.000000\n",
       "50%    1.046820e+18       1.000000\n",
       "75%    1.049106e+18       2.000000\n",
       "max    1.053355e+18       2.000000"
      ]
     },
     "execution_count": 6,
     "metadata": {},
     "output_type": "execute_result"
    }
   ],
   "source": [
    "# Estatística de cada coluna \n",
    "db.describe()"
   ]
  },
  {
   "cell_type": "code",
   "execution_count": 7,
   "metadata": {},
   "outputs": [
    {
     "data": {
      "text/plain": [
       "(100000, 5)"
      ]
     },
     "execution_count": 7,
     "metadata": {},
     "output_type": "execute_result"
    }
   ],
   "source": [
    "# Quantidade de linhas x colunas\n",
    "db.shape"
   ]
  },
  {
   "cell_type": "markdown",
   "metadata": {},
   "source": [
    "A base de dados possui $1 \\times 10^5$ instâncias e cinco colunas, das quais três correspondem a variáveis discretas e duas a variáveis qualitativas."
   ]
  },
  {
   "cell_type": "code",
   "execution_count": 8,
   "metadata": {},
   "outputs": [
    {
     "data": {
      "text/plain": [
       "Index(['id', 'tweet_text', 'tweet_date', 'sentiment', 'query_used'], dtype='object')"
      ]
     },
     "execution_count": 8,
     "metadata": {},
     "output_type": "execute_result"
    }
   ],
   "source": [
    "# Nome das colunas que representam as variáveis\n",
    "db.columns"
   ]
  },
  {
   "cell_type": "code",
   "execution_count": 9,
   "metadata": {},
   "outputs": [
    {
     "name": "stdout",
     "output_type": "stream",
     "text": [
      "<class 'pandas.core.frame.DataFrame'>\n",
      "RangeIndex: 100000 entries, 0 to 99999\n",
      "Data columns (total 5 columns):\n",
      " #   Column      Non-Null Count   Dtype \n",
      "---  ------      --------------   ----- \n",
      " 0   id          100000 non-null  int64 \n",
      " 1   tweet_text  100000 non-null  object\n",
      " 2   tweet_date  100000 non-null  object\n",
      " 3   sentiment   100000 non-null  int64 \n",
      " 4   query_used  100000 non-null  object\n",
      "dtypes: int64(2), object(3)\n",
      "memory usage: 3.8+ MB\n"
     ]
    }
   ],
   "source": [
    "#Tipo e contagem por coluna\n",
    "db.info()"
   ]
  },
  {
   "cell_type": "code",
   "execution_count": 10,
   "metadata": {},
   "outputs": [
    {
     "data": {
      "text/plain": [
       "id            0\n",
       "tweet_text    0\n",
       "tweet_date    0\n",
       "sentiment     0\n",
       "query_used    0\n",
       "dtype: int64"
      ]
     },
     "execution_count": 10,
     "metadata": {},
     "output_type": "execute_result"
    }
   ],
   "source": [
    "# Número de valores nulos\n",
    "db.isnull().sum()"
   ]
  },
  {
   "cell_type": "markdown",
   "metadata": {},
   "source": [
    "A base de dados não possui valores nulos. "
   ]
  },
  {
   "cell_type": "markdown",
   "metadata": {},
   "source": [
    "### 1.1. Obtenção dos períodos do dia"
   ]
  },
  {
   "cell_type": "code",
   "execution_count": 11,
   "metadata": {},
   "outputs": [
    {
     "data": {
      "text/html": [
       "<div>\n",
       "<style scoped>\n",
       "    .dataframe tbody tr th:only-of-type {\n",
       "        vertical-align: middle;\n",
       "    }\n",
       "\n",
       "    .dataframe tbody tr th {\n",
       "        vertical-align: top;\n",
       "    }\n",
       "\n",
       "    .dataframe thead th {\n",
       "        text-align: right;\n",
       "    }\n",
       "</style>\n",
       "<table border=\"1\" class=\"dataframe\">\n",
       "  <thead>\n",
       "    <tr style=\"text-align: right;\">\n",
       "      <th></th>\n",
       "      <th>id</th>\n",
       "      <th>tweet_text</th>\n",
       "      <th>tweet_date</th>\n",
       "      <th>sentiment</th>\n",
       "      <th>query_used</th>\n",
       "      <th>date</th>\n",
       "      <th>period</th>\n",
       "    </tr>\n",
       "  </thead>\n",
       "  <tbody>\n",
       "    <tr>\n",
       "      <th>0</th>\n",
       "      <td>1050785521201541121</td>\n",
       "      <td>@Laranjito76 A pessoa certa para isso seria o ...</td>\n",
       "      <td>Fri Oct 12 16:29:25 +0000 2018</td>\n",
       "      <td>Positive</td>\n",
       "      <td>:)</td>\n",
       "      <td>2018-10-12 16:29:25+00:00</td>\n",
       "      <td>Evening</td>\n",
       "    </tr>\n",
       "    <tr>\n",
       "      <th>1</th>\n",
       "      <td>1050785431955140608</td>\n",
       "      <td>@behin_d_curtain Para mim, é precisamente o co...</td>\n",
       "      <td>Fri Oct 12 16:29:04 +0000 2018</td>\n",
       "      <td>Positive</td>\n",
       "      <td>:)</td>\n",
       "      <td>2018-10-12 16:29:04+00:00</td>\n",
       "      <td>Evening</td>\n",
       "    </tr>\n",
       "    <tr>\n",
       "      <th>2</th>\n",
       "      <td>1050785401248645120</td>\n",
       "      <td>Vou fazer um video hoje... estou pensando em f...</td>\n",
       "      <td>Fri Oct 12 16:28:56 +0000 2018</td>\n",
       "      <td>Positive</td>\n",
       "      <td>:)</td>\n",
       "      <td>2018-10-12 16:28:56+00:00</td>\n",
       "      <td>Evening</td>\n",
       "    </tr>\n",
       "    <tr>\n",
       "      <th>3</th>\n",
       "      <td>1050785370982547461</td>\n",
       "      <td>aaaaaaaa amei tanto essas polaroids, nem sei e...</td>\n",
       "      <td>Fri Oct 12 16:28:49 +0000 2018</td>\n",
       "      <td>Positive</td>\n",
       "      <td>:)</td>\n",
       "      <td>2018-10-12 16:28:49+00:00</td>\n",
       "      <td>Evening</td>\n",
       "    </tr>\n",
       "    <tr>\n",
       "      <th>4</th>\n",
       "      <td>1050785368902131713</td>\n",
       "      <td>Valoriza o coração do menininho que vc tem. El...</td>\n",
       "      <td>Fri Oct 12 16:28:49 +0000 2018</td>\n",
       "      <td>Positive</td>\n",
       "      <td>:)</td>\n",
       "      <td>2018-10-12 16:28:49+00:00</td>\n",
       "      <td>Evening</td>\n",
       "    </tr>\n",
       "  </tbody>\n",
       "</table>\n",
       "</div>"
      ],
      "text/plain": [
       "                    id                                         tweet_text  \\\n",
       "0  1050785521201541121  @Laranjito76 A pessoa certa para isso seria o ...   \n",
       "1  1050785431955140608  @behin_d_curtain Para mim, é precisamente o co...   \n",
       "2  1050785401248645120  Vou fazer um video hoje... estou pensando em f...   \n",
       "3  1050785370982547461  aaaaaaaa amei tanto essas polaroids, nem sei e...   \n",
       "4  1050785368902131713  Valoriza o coração do menininho que vc tem. El...   \n",
       "\n",
       "                       tweet_date sentiment query_used  \\\n",
       "0  Fri Oct 12 16:29:25 +0000 2018  Positive         :)   \n",
       "1  Fri Oct 12 16:29:04 +0000 2018  Positive         :)   \n",
       "2  Fri Oct 12 16:28:56 +0000 2018  Positive         :)   \n",
       "3  Fri Oct 12 16:28:49 +0000 2018  Positive         :)   \n",
       "4  Fri Oct 12 16:28:49 +0000 2018  Positive         :)   \n",
       "\n",
       "                       date   period  \n",
       "0 2018-10-12 16:29:25+00:00  Evening  \n",
       "1 2018-10-12 16:29:04+00:00  Evening  \n",
       "2 2018-10-12 16:28:56+00:00  Evening  \n",
       "3 2018-10-12 16:28:49+00:00  Evening  \n",
       "4 2018-10-12 16:28:49+00:00  Evening  "
      ]
     },
     "execution_count": 11,
     "metadata": {},
     "output_type": "execute_result"
    }
   ],
   "source": [
    "db['date'] = pd.to_datetime(db['tweet_date'])\n",
    "db['period'] = (db['date'].dt.hour % 24 + 4) // 4\n",
    "db['period'].replace({1: 'Late Night',\n",
    "                      2: 'Early Morning',\n",
    "                      3: 'Morning',\n",
    "                      4: 'Noon',\n",
    "                      5: 'Evening',\n",
    "                      6: 'Night'}, inplace=True)\n",
    "db['sentiment'].replace({0: 'Negative',\n",
    "                         1: 'Positive',\n",
    "                         2: 'Neutral'}, inplace=True)\n",
    "db.head()"
   ]
  },
  {
   "cell_type": "markdown",
   "metadata": {},
   "source": [
    "### 1.2. Quantidade de tweets por período"
   ]
  },
  {
   "cell_type": "code",
   "execution_count": 12,
   "metadata": {},
   "outputs": [
    {
     "data": {
      "image/png": "[encoded data removed]",
      "text/plain": [
       "<Figure size 432x288 with 1 Axes>"
      ]
     },
     "metadata": {},
     "output_type": "display_data"
    }
   ],
   "source": [
    "sns.set_style('whitegrid')\n",
    "axis = sns.histplot(data=db, y='period')\n",
    "axis.set(frame_on=False)\n",
    "axis.axvline(0, color='k', clip_on=False)\n",
    "plt.ylabel('Period of the day')\n",
    "plt.xlabel('Number of tweets')\n",
    "plt.title('Tweets per period of the day')\n",
    "plt.show()"
   ]
  },
  {
   "cell_type": "markdown",
   "metadata": {},
   "source": [
    "Baseado no gráfico, a maior parte dos tweets concentram-se no período da tarde e madrugada. Veremos agora a relação entre os tweets positivos, negativos e neutros durante o período a partir do gráfico a seguir:"
   ]
  },
  {
   "cell_type": "code",
   "execution_count": 13,
   "metadata": {},
   "outputs": [
    {
     "data": {
      "image/png": "[encoded data removed]",
      "text/plain": [
       "<Figure size 432x288 with 1 Axes>"
      ]
     },
     "metadata": {},
     "output_type": "display_data"
    }
   ],
   "source": [
    "sns.set_style('whitegrid')\n",
    "axis = sns.histplot(data=db, y='period', hue='sentiment', bins=5,\n",
    "                   palette={'Negative': 'red', 'Neutral': 'gray' , 'Positive': 'green'},\n",
    "                   multiple='dodge')\n",
    "axis.set(frame_on=False)\n",
    "axis.axvline(0, color='k', clip_on=False)\n",
    "plt.ylabel('Period of the day')\n",
    "plt.xlabel('Number of tweets')\n",
    "plt.title('Tweets per period of the day according to sentiment')\n",
    "plt.show()"
   ]
  },
  {
   "cell_type": "markdown",
   "metadata": {},
   "source": [
    "Observa-se que durante a madrugada a maioria dos tweets tendem a ser negativos. No meio-dia os positivos estão ligeiramente à frente dos negativos e durante o período noturno tweets negativos são inexistentes, sendo em sua maioria neutros."
   ]
  },
  {
   "cell_type": "markdown",
   "metadata": {},
   "source": [
    "## 2. Perguntas de partida e hipóteses"
   ]
  },
  {
   "cell_type": "markdown",
   "metadata": {},
   "source": [
    "Com base na análise dos dados referentes a classificação de sentimentos do twitter, surgem as seguintes perguntas:\n",
    "   1. Por que alguns períodos do dia possuem mais tweets do que outros?\n",
    "   \n",
    "   2. Qual a correlação entre o tipo de sentimento do usuário e o período do dia?\n",
    "   \n",
    "   3. O conteúdo do tweet é relevante para a avaliação do sentimento?\n",
    "    \n",
    "Como hipóteses temos:\n",
    "  1. A disponibilidade das pessoas para realizar tweets varia conforme o tempo livre. No final da tarde, que para a grande maioria corresponde ao fim do expediente de trabalho/estudantil, os usuários possuem maior tempo para usufruirem das mídias socias. Assim como também no final da noite que pode ser um horário mais confortável para escrever sem se preocupar com afazeres posteriores.\n",
    "  \n",
    "  2. Ao acordar, muitas pessoas estão com pouca disposição e precisam lidar com a expectativa de iniciar algum tipo de trabalho ou atividade análoga, causando uma maioria de sentimentos negativos e neutros. Durante a tarde, metade do dia se foi e os sentimentos positivos aumentam e pela noite tendem a desaparecer devido ao encerramento das atividades. Já na madrugada, vemos uma maioria esmagadora de sentimentos negativos tendo em vista que uma parcela minoritária da população se encontra acordada nesse horário e muito provavelmente devem sofrer de insônia e doenças relacionadas que podem causar sentimentos negativos.\n",
    "  \n",
    "  3. O conteúdo pode não ter muita relação, mas a palavra-chave utilizada pelo banco de dados nos mostra uma tendência sentimental em relação ao conteúdo dos tweets que a utilizam."
   ]
  },
  {
   "cell_type": "markdown",
   "metadata": {},
   "source": [
    "## 3. Insights"
   ]
  },
  {
   "cell_type": "markdown",
   "metadata": {},
   "source": [
    "Como observado nos gráficos, nos períodos de fim de tarde e noturno os sentimentos negativos dos usuários do twitter diminuem progressivamente até praticamente inexistirem após altas horas da noite.\n",
    "\n",
    "Esses dados podem ser úteis para detectar que tipos de usuários podem estar sofrendo com insônia e estresse. É possível notar, a partir dessa análise, não somente informações do dia-a-dia dos usuários, mas também extrair informações valiosas a respeito do seu perfil e direcionar conteúdos de propaganda que sejam relevantes naquele momento do seu dia."
   ]
  }
 ],
 "metadata": {
  "kernelspec": {
   "display_name": "Python 3",
   "language": "python",
   "name": "python3"
  },
  "language_info": {
   "codemirror_mode": {
    "name": "ipython",
    "version": 3
   },
   "file_extension": ".py",
   "mimetype": "text/x-python",
   "name": "python",
   "nbconvert_exporter": "python",
   "pygments_lexer": "ipython3",
   "version": "3.8.5"
  },
  "vscode": {
   "interpreter": {
    "hash": "eb3c3305d8b111f0102f4f519c5f17abd113fe74db6752c355e994a9008815ef"
   }
  }
 },
 "nbformat": 4,
 "nbformat_minor": 4
}
