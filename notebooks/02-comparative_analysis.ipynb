{
 "cells": [
  {
   "cell_type": "code",
   "execution_count": 1,
   "id": "9bb5df34-8a87-415f-85cf-97fdf4756c5c",
   "metadata": {},
   "outputs": [],
   "source": [
    "from pathlib import Path\n",
    "from IPython.display import Markdown\n",
    "import pandas as pd\n",
    "from sklearn.pipeline import Pipeline\n",
    "from sklearn.impute import SimpleImputer\n",
    "from sklearn.preprocessing import OneHotEncoder, StandardScaler"
   ]
  },
  {
   "cell_type": "code",
   "execution_count": 2,
   "id": "aab5306d-a741-47d9-b3e4-f1b81596a6d3",
   "metadata": {},
   "outputs": [],
   "source": [
    "data_path = Path(\"../data/raw/data.csv\")\n",
    "dict_path = Path(\"../data/external/dicionario.csv\")"
   ]
  },
  {
   "cell_type": "code",
   "execution_count": 3,
   "id": "88e10420-36d7-4df4-9b4c-a0d5d15f5536",
   "metadata": {},
   "outputs": [
    {
     "data": {
      "text/markdown": [
       "### Dados"
      ],
      "text/plain": [
       "<IPython.core.display.Markdown object>"
      ]
     },
     "metadata": {},
     "output_type": "display_data"
    },
    {
     "data": {
      "text/html": [
       "<div>\n",
       "<style scoped>\n",
       "    .dataframe tbody tr th:only-of-type {\n",
       "        vertical-align: middle;\n",
       "    }\n",
       "\n",
       "    .dataframe tbody tr th {\n",
       "        vertical-align: top;\n",
       "    }\n",
       "\n",
       "    .dataframe thead th {\n",
       "        text-align: right;\n",
       "    }\n",
       "</style>\n",
       "<table border=\"1\" class=\"dataframe\">\n",
       "  <thead>\n",
       "    <tr style=\"text-align: right;\">\n",
       "      <th></th>\n",
       "      <th>id</th>\n",
       "      <th>tweet_text</th>\n",
       "      <th>tweet_date</th>\n",
       "      <th>sentiment</th>\n",
       "      <th>query_used</th>\n",
       "    </tr>\n",
       "  </thead>\n",
       "  <tbody>\n",
       "    <tr>\n",
       "      <th>0</th>\n",
       "      <td>1050785521201541121</td>\n",
       "      <td>@Laranjito76 A pessoa certa para isso seria o ...</td>\n",
       "      <td>Fri Oct 12 16:29:25 +0000 2018</td>\n",
       "      <td>1</td>\n",
       "      <td>:)</td>\n",
       "    </tr>\n",
       "    <tr>\n",
       "      <th>1</th>\n",
       "      <td>1050785431955140608</td>\n",
       "      <td>@behin_d_curtain Para mim, é precisamente o co...</td>\n",
       "      <td>Fri Oct 12 16:29:04 +0000 2018</td>\n",
       "      <td>1</td>\n",
       "      <td>:)</td>\n",
       "    </tr>\n",
       "    <tr>\n",
       "      <th>2</th>\n",
       "      <td>1050785401248645120</td>\n",
       "      <td>Vou fazer um video hoje... estou pensando em f...</td>\n",
       "      <td>Fri Oct 12 16:28:56 +0000 2018</td>\n",
       "      <td>1</td>\n",
       "      <td>:)</td>\n",
       "    </tr>\n",
       "    <tr>\n",
       "      <th>3</th>\n",
       "      <td>1050785370982547461</td>\n",
       "      <td>aaaaaaaa amei tanto essas polaroids, nem sei e...</td>\n",
       "      <td>Fri Oct 12 16:28:49 +0000 2018</td>\n",
       "      <td>1</td>\n",
       "      <td>:)</td>\n",
       "    </tr>\n",
       "    <tr>\n",
       "      <th>4</th>\n",
       "      <td>1050785368902131713</td>\n",
       "      <td>Valoriza o coração do menininho que vc tem. El...</td>\n",
       "      <td>Fri Oct 12 16:28:49 +0000 2018</td>\n",
       "      <td>1</td>\n",
       "      <td>:)</td>\n",
       "    </tr>\n",
       "  </tbody>\n",
       "</table>\n",
       "</div>"
      ],
      "text/plain": [
       "                    id                                         tweet_text  \\\n",
       "0  1050785521201541121  @Laranjito76 A pessoa certa para isso seria o ...   \n",
       "1  1050785431955140608  @behin_d_curtain Para mim, é precisamente o co...   \n",
       "2  1050785401248645120  Vou fazer um video hoje... estou pensando em f...   \n",
       "3  1050785370982547461  aaaaaaaa amei tanto essas polaroids, nem sei e...   \n",
       "4  1050785368902131713  Valoriza o coração do menininho que vc tem. El...   \n",
       "\n",
       "                       tweet_date  sentiment query_used  \n",
       "0  Fri Oct 12 16:29:25 +0000 2018          1         :)  \n",
       "1  Fri Oct 12 16:29:04 +0000 2018          1         :)  \n",
       "2  Fri Oct 12 16:28:56 +0000 2018          1         :)  \n",
       "3  Fri Oct 12 16:28:49 +0000 2018          1         :)  \n",
       "4  Fri Oct 12 16:28:49 +0000 2018          1         :)  "
      ]
     },
     "metadata": {},
     "output_type": "display_data"
    },
    {
     "data": {
      "text/markdown": [
       "### Dicionário"
      ],
      "text/plain": [
       "<IPython.core.display.Markdown object>"
      ]
     },
     "metadata": {},
     "output_type": "display_data"
    },
    {
     "data": {
      "text/html": [
       "<div>\n",
       "<style scoped>\n",
       "    .dataframe tbody tr th:only-of-type {\n",
       "        vertical-align: middle;\n",
       "    }\n",
       "\n",
       "    .dataframe tbody tr th {\n",
       "        vertical-align: top;\n",
       "    }\n",
       "\n",
       "    .dataframe thead th {\n",
       "        text-align: right;\n",
       "    }\n",
       "</style>\n",
       "<table border=\"1\" class=\"dataframe\">\n",
       "  <thead>\n",
       "    <tr style=\"text-align: right;\">\n",
       "      <th></th>\n",
       "      <th>variavel</th>\n",
       "      <th>significado</th>\n",
       "      <th>tipo</th>\n",
       "      <th>valores</th>\n",
       "    </tr>\n",
       "  </thead>\n",
       "  <tbody>\n",
       "    <tr>\n",
       "      <th>0</th>\n",
       "      <td>id</td>\n",
       "      <td>ID único por usuário</td>\n",
       "      <td>useless</td>\n",
       "      <td>NaN</td>\n",
       "    </tr>\n",
       "    <tr>\n",
       "      <th>1</th>\n",
       "      <td>tweet_text</td>\n",
       "      <td>Texto publicado</td>\n",
       "      <td>text</td>\n",
       "      <td>NaN</td>\n",
       "    </tr>\n",
       "    <tr>\n",
       "      <th>2</th>\n",
       "      <td>tweet_date</td>\n",
       "      <td>Data de publicação</td>\n",
       "      <td>time</td>\n",
       "      <td>NaN</td>\n",
       "    </tr>\n",
       "    <tr>\n",
       "      <th>3</th>\n",
       "      <td>sentiment</td>\n",
       "      <td>Algorítmo de classificação do sentimento do us...</td>\n",
       "      <td>nominal</td>\n",
       "      <td>[0,1,2]</td>\n",
       "    </tr>\n",
       "    <tr>\n",
       "      <th>4</th>\n",
       "      <td>query_used</td>\n",
       "      <td>Palavra relevante</td>\n",
       "      <td>nominal</td>\n",
       "      <td>[':)', ':(', 'veja', 'jornaloglobo', 'g1', 'fo...</td>\n",
       "    </tr>\n",
       "  </tbody>\n",
       "</table>\n",
       "</div>"
      ],
      "text/plain": [
       "     variavel                                        significado     tipo  \\\n",
       "0          id                               ID único por usuário  useless   \n",
       "1  tweet_text                                    Texto publicado     text   \n",
       "2  tweet_date                                 Data de publicação     time   \n",
       "3   sentiment  Algorítmo de classificação do sentimento do us...  nominal   \n",
       "4  query_used                                  Palavra relevante  nominal   \n",
       "\n",
       "                                             valores  \n",
       "0                                                NaN  \n",
       "1                                                NaN  \n",
       "2                                                NaN  \n",
       "3                                            [0,1,2]  \n",
       "4  [':)', ':(', 'veja', 'jornaloglobo', 'g1', 'fo...  "
      ]
     },
     "metadata": {},
     "output_type": "display_data"
    }
   ],
   "source": [
    "df = pd.read_csv(data_path, sep=\";\")\n",
    "display(Markdown(\"### Dados\"))\n",
    "display(df.head())\n",
    "\n",
    "\n",
    "df_dict = pd.read_csv(dict_path)\n",
    "display(Markdown(\"### Dicionário\"))\n",
    "display(df_dict.head())"
   ]
  },
  {
   "cell_type": "code",
   "execution_count": 4,
   "id": "ceae3e85-6d94-410e-8df7-d1d1576db288",
   "metadata": {},
   "outputs": [
    {
     "data": {
      "text/plain": [
       "array(['useless', 'text', 'time', 'nominal'], dtype=object)"
      ]
     },
     "execution_count": 4,
     "metadata": {},
     "output_type": "execute_result"
    }
   ],
   "source": [
    "df_dict.tipo.unique()"
   ]
  },
  {
   "cell_type": "code",
   "execution_count": 5,
   "id": "61a58efc-41d6-40ca-810d-6fa47f97bc82",
   "metadata": {},
   "outputs": [],
   "source": [
    "target_column = \"sentiment\"\n",
    "useless_columns =  df_dict.query(\"tipo == 'useless'\").variavel.to_list()\n",
    "nominal_columns = (\n",
    "    df_dict\n",
    "    .query(\n",
    "        \"tipo == 'nominal' and \"\n",
    "        \"variavel not in @useless_columns and \"\n",
    "        \"variavel != @target_column\"\n",
    "    )\n",
    "    .variavel\n",
    "    .to_list()\n",
    ")\n",
    "text_columns = (\n",
    "    df_dict\n",
    "    .query(\n",
    "        \"tipo == 'text' and \"\n",
    "        \"variavel not in @useless_columns and \"\n",
    "        \"variavel != @target_column\"\n",
    "    )\n",
    "    .variavel\n",
    "    .to_list()\n",
    ")\n",
    "time_columns = (\n",
    "    df_dict\n",
    "    .query(\n",
    "        \"tipo == 'time' and \"\n",
    "        \"variavel not in @useless_columns and \"\n",
    "        \"variavel != @target_column\"\n",
    "    )\n",
    "    .variavel\n",
    "    .to_list()\n",
    ")"
   ]
  },
  {
   "cell_type": "code",
   "execution_count": 6,
   "id": "e43ca3ca-6293-408c-836b-e05500eff727",
   "metadata": {},
   "outputs": [],
   "source": [
    "nominal_preprocessor = Pipeline([\n",
    "    # Tratamento de dados discrepantes\n",
    "    (\"missing\", SimpleImputer(strategy='most_frequent')), # Tratamento de dados faltantes\n",
    "    (\"encoder\", OneHotEncoder(sparse=False)), # Codificação de variáveis\n",
    "    # Seleção de variáveis\n",
    "    (\"normalization\", StandardScaler()) # Normalização\n",
    "])\n",
    "text_preprocessor = Pipeline([\n",
    "    # Tratamento de dados discrepantes\n",
    "    # Tratamento de dados faltantes\n",
    "    # Codificação de variáveis\n",
    "    # Seleção de variáveis\n",
    "    # Normalização\n",
    "])\n",
    "time_preprocessor = Pipeline([\n",
    "    # Tratamento de dados discrepantes\n",
    "    # Tratamento de dados faltantes\n",
    "    # Codificação de variáveis\n",
    "    # Seleção de variáveis\n",
    "    # Normalização\n",
    "])"
   ]
  },
  {
   "cell_type": "code",
   "execution_count": null,
   "id": "420ad3b4-9948-4e7f-b133-43ae37ff9674",
   "metadata": {},
   "outputs": [],
   "source": []
  }
 ],
 "metadata": {
  "kernelspec": {
   "display_name": "Python 3 (ipykernel)",
   "language": "python",
   "name": "python3"
  },
  "language_info": {
   "codemirror_mode": {
    "name": "ipython",
    "version": 3
   },
   "file_extension": ".py",
   "mimetype": "text/x-python",
   "name": "python",
   "nbconvert_exporter": "python",
   "pygments_lexer": "ipython3",
   "version": "3.8.10"
  }
 },
 "nbformat": 4,
 "nbformat_minor": 5
}
